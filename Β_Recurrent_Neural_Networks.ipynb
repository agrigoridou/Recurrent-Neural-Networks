{
  "nbformat": 4,
  "nbformat_minor": 0,
  "metadata": {
    "colab": {
      "provenance": [],
      "authorship_tag": "ABX9TyNBR2y5T0Iic5ZRBPfBCeNV",
      "include_colab_link": true
    },
    "kernelspec": {
      "name": "python3",
      "display_name": "Python 3"
    },
    "language_info": {
      "name": "python"
    }
  },
  "cells": [
    {
      "cell_type": "markdown",
      "metadata": {
        "id": "view-in-github",
        "colab_type": "text"
      },
      "source": [
        "<a href=\"https://colab.research.google.com/github/agrigoridou/Recurrent-Neural-Networks/blob/main/%CE%92_Recurrent_Neural_Networks.ipynb\" target=\"_parent\"><img src=\"https://colab.research.google.com/assets/colab-badge.svg\" alt=\"Open In Colab\"/></a>"
      ]
    },
    {
      "cell_type": "markdown",
      "source": [
        "#Εγκατάσταση Απαιτούμενων Βιβλιοθηκών"
      ],
      "metadata": {
        "id": "GrIsLAs_v-RR"
      }
    },
    {
      "cell_type": "code",
      "execution_count": null,
      "metadata": {
        "id": "4Pxx07rpt-xd"
      },
      "outputs": [],
      "source": [
        "!pip install torchtext sklearn pandas tqdm"
      ]
    },
    {
      "cell_type": "markdown",
      "source": [
        "#1. Εκτέλεση Αρχικού Κώδικα"
      ],
      "metadata": {
        "id": "2wPOy6jbwN3p"
      }
    },
    {
      "cell_type": "markdown",
      "source": [
        "Κώδικας για Προετοιμασία Δεδομένων:"
      ],
      "metadata": {
        "id": "x8l7bh0bwRgY"
      }
    },
    {
      "cell_type": "code",
      "source": [
        "import torch\n",
        "from torchtext import data\n",
        "from torchtext import datasets"
      ],
      "metadata": {
        "id": "qQi4f_SfwO3a"
      },
      "execution_count": null,
      "outputs": []
    },
    {
      "cell_type": "code",
      "source": [
        "# Ρύθμιση του πεδίου για τα δεδομένα\n",
        "TEXT = data.Field(sequential=True, include_lengths=True, batch_first=True, fix_length=25)\n",
        "LABEL = data.LabelField(dtype=torch.long)"
      ],
      "metadata": {
        "id": "uowtjy2LwTTA"
      },
      "execution_count": null,
      "outputs": []
    },
    {
      "cell_type": "code",
      "source": [
        "# Φόρτωση του AG News dataset\n",
        "train_data, test_data = datasets.AG_NEWS.splits(TEXT, LABEL)\n"
      ],
      "metadata": {
        "id": "f-ydiniBwUa8"
      },
      "execution_count": null,
      "outputs": []
    },
    {
      "cell_type": "code",
      "source": [
        "# Δημιουργία του λεξιλογίου\n",
        "TEXT.build_vocab(train_data, max_size=20000, min_freq=10)\n",
        "LABEL.build_vocab(train_data)"
      ],
      "metadata": {
        "id": "87cuMDGNwVsH"
      },
      "execution_count": null,
      "outputs": []
    },
    {
      "cell_type": "code",
      "source": [
        "# Χωρισμός του training set σε training και validation set\n",
        "train_data, valid_data = train_data.split(split_ratio=0.95)"
      ],
      "metadata": {
        "id": "Q-rOfNYpwW3A"
      },
      "execution_count": null,
      "outputs": []
    },
    {
      "cell_type": "code",
      "source": [
        "# Δημιουργία iterators για τα datasets\n",
        "from torchtext.data import BucketIterator\n",
        "\n",
        "train_iterator, valid_iterator, test_iterator = BucketIterator.splits(\n",
        "    (train_data, valid_data, test_data),\n",
        "    batch_size=1024,\n",
        "    device=torch.device('cuda' if torch.cuda.is_available() else 'cpu'),\n",
        "    sort_within_batch=True,\n",
        "    sort_key=lambda x: len(x.text)\n",
        ")"
      ],
      "metadata": {
        "id": "0K031yk7wYDI"
      },
      "execution_count": null,
      "outputs": []
    },
    {
      "cell_type": "markdown",
      "source": [
        "#Κώδικας για το RNN Μοντέλο:"
      ],
      "metadata": {
        "id": "lc290REbwcOP"
      }
    },
    {
      "cell_type": "code",
      "source": [
        "import torch.nn as nn\n",
        "import torch.optim as optim\n",
        "import time\n",
        "\n",
        "class RNN(nn.Module):\n",
        "    def __init__(self, input_dim, embedding_dim, hidden_dim, output_dim, n_layers, dropout):\n",
        "        super().__init__()\n",
        "\n",
        "        # Ενσωμάτωση λέξεων\n",
        "        self.embedding = nn.Embedding(input_dim, embedding_dim)\n",
        "\n",
        "        # Αναδρομικό Νευρωνικό Δίκτυο (RNN)\n",
        "        self.rnn = nn.RNN(embedding_dim, hidden_dim, num_layers=n_layers, dropout=dropout, bidirectional=False)\n",
        "\n",
        "        # Κρυφό επίπεδο\n",
        "        self.fc = nn.Linear(hidden_dim, output_dim)\n",
        "\n",
        "        # Κανονικοποίηση Dropout\n",
        "        self.dropout = nn.Dropout(dropout)\n",
        "\n",
        "    def forward(self, text, text_lengths):\n",
        "        embedded = self.dropout(self.embedding(text))\n",
        "        packed_embedded = nn.utils.rnn.pack_padded_sequence(embedded, text_lengths.cpu(), batch_first=True, enforce_sorted=False)\n",
        "        packed_output, hidden = self.rnn(packed_embedded)\n",
        "        output, output_lengths = nn.utils.rnn.pad_packed_sequence(packed_output, batch_first=True)\n",
        "        hidden = self.dropout(hidden[-1])\n",
        "        return self.fc(hidden)\n"
      ],
      "metadata": {
        "id": "ph0KVHrgwdNx"
      },
      "execution_count": null,
      "outputs": []
    },
    {
      "cell_type": "markdown",
      "source": [
        "#Κώδικας Εκπαίδευσης του Μοντέλου:"
      ],
      "metadata": {
        "id": "tWWqIAGWwg0o"
      }
    },
    {
      "cell_type": "code",
      "source": [
        "def train_model(model, iterator, optimizer, criterion):\n",
        "    model.train()\n",
        "    epoch_loss = 0\n",
        "    epoch_acc = 0\n",
        "\n",
        "    for batch in iterator:\n",
        "        text, text_lengths = batch.text\n",
        "        labels = batch.label\n",
        "        optimizer.zero_grad()\n",
        "        predictions = model(text, text_lengths).squeeze(1)\n",
        "        loss = criterion(predictions, labels)\n",
        "        acc = accuracy(predictions, labels)\n",
        "        loss.backward()\n",
        "        optimizer.step()\n",
        "\n",
        "        epoch_loss += loss.item()\n",
        "        epoch_acc += acc.item()\n",
        "\n",
        "    return epoch_loss / len(iterator), epoch_acc / len(iterator)\n",
        "\n",
        "def evaluate_model(model, iterator, criterion):\n",
        "    model.eval()\n",
        "    epoch_loss = 0\n",
        "    epoch_acc = 0\n",
        "\n",
        "    with torch.no_grad():\n",
        "        for batch in iterator:\n",
        "            text, text_lengths = batch.text\n",
        "            labels = batch.label\n",
        "            predictions = model(text, text_lengths).squeeze(1)\n",
        "            loss = criterion(predictions, labels)\n",
        "            acc = accuracy(predictions, labels)\n",
        "\n",
        "            epoch_loss += loss.item()\n",
        "            epoch_acc += acc.item()\n",
        "\n",
        "    return epoch_loss / len(iterator), epoch_acc / len(iterator)\n",
        "\n",
        "# Παράμετροι εκπαίδευσης\n",
        "EPOCHS = 15\n",
        "LEARNING_RATE = 1e-3\n",
        "BATCH_SIZE = 1024\n",
        "EMBEDDING_DIM = 100\n",
        "HIDDEN_DIM = 64\n",
        "OUTPUT_DIM = len(LABEL.vocab)\n",
        "N_LAYERS = 1\n",
        "DROPOUT = 0.5\n",
        "\n",
        "# Δημιουργία του μοντέλου\n",
        "model = RNN(input_dim=len(TEXT.vocab), embedding_dim=EMBEDDING_DIM, hidden_dim=HIDDEN_DIM,\n",
        "            output_dim=OUTPUT_DIM, n_layers=N_LAYERS, dropout=DROPOUT)\n",
        "\n",
        "# Ρύθμιση optimizer και criterion\n",
        "optimizer = optim.Adam(model.parameters(), lr=LEARNING_RATE)\n",
        "criterion = nn.CrossEntropyLoss()\n",
        "\n",
        "# Εκπαίδευση του μοντέλου\n",
        "for epoch in range(EPOCHS):\n",
        "    start_time = time.time()\n",
        "\n",
        "    train_loss, train_acc = train_model(model, train_iterator, optimizer, criterion)\n",
        "    valid_loss, valid_acc = evaluate_model(model, valid_iterator, criterion)\n",
        "\n",
        "    end_time = time.time()\n",
        "    epoch_mins, epoch_secs = epoch_time(start_time, end_time)\n",
        "\n",
        "    print(f'Epoch {epoch+1} | Time: {epoch_mins}m {epoch_secs}s')\n",
        "    print(f'\\tTrain Loss: {train_loss:.3f} | Train Acc: {train_acc*100:.2f}%')\n",
        "    print(f'\\tVal. Loss: {valid_loss:.3f} | Val. Acc: {valid_acc*100:.2f}%')\n"
      ],
      "metadata": {
        "id": "DpircTLbwi-g"
      },
      "execution_count": null,
      "outputs": []
    },
    {
      "cell_type": "markdown",
      "source": [
        "#2. Τροποποίηση για Bidirectional RNN"
      ],
      "metadata": {
        "id": "ajYfIWnRwlN_"
      }
    },
    {
      "cell_type": "code",
      "source": [
        "class BiRNN(nn.Module):\n",
        "    def __init__(self, input_dim, embedding_dim, hidden_dim, output_dim, n_layers, dropout):\n",
        "        super().__init__()\n",
        "\n",
        "        self.embedding = nn.Embedding(input_dim, embedding_dim)\n",
        "\n",
        "        # Bidirectional RNN\n",
        "        self.rnn = nn.RNN(embedding_dim, hidden_dim, num_layers=n_layers, dropout=dropout, bidirectional=True)\n",
        "\n",
        "        self.fc = nn.Linear(hidden_dim * 2, output_dim)  # Διπλασιάζεται το μέγεθος του hidden_dim λόγω bidirectional\n",
        "        self.dropout = nn.Dropout(dropout)\n",
        "\n",
        "    def forward(self, text, text_lengths):\n",
        "        embedded = self.dropout(self.embedding(text))\n",
        "        packed_embedded = nn.utils.rnn.pack_padded_sequence(embedded, text_lengths.cpu(), batch_first=True, enforce_sorted=False)\n",
        "        packed_output, hidden = self.rnn(packed_embedded)\n",
        "        output, output_lengths = nn.utils.rnn.pad_packed_sequence(packed_output, batch_first=True)\n",
        "        hidden = self.dropout(hidden[-2:].sum(dim=0))  # Συνένωση των εξόδων των δύο κατευθύνσεων\n",
        "        return self.fc(hidden)\n"
      ],
      "metadata": {
        "id": "qJWYEFI5wnMn"
      },
      "execution_count": null,
      "outputs": []
    },
    {
      "cell_type": "markdown",
      "source": [
        "#3. Διπλό Στρώμα Bidirectional RNN"
      ],
      "metadata": {
        "id": "hIzRaLhewpG7"
      }
    },
    {
      "cell_type": "markdown",
      "source": [
        "#4. Χρήση LSTM Αντί για RNN"
      ],
      "metadata": {
        "id": "JbwubkxQwrNg"
      }
    },
    {
      "cell_type": "code",
      "source": [
        "class LSTMModel(nn.Module):\n",
        "    def __init__(self, input_dim, embedding_dim, hidden_dim, output_dim, n_layers, dropout):\n",
        "        super().__init__()\n",
        "\n",
        "        self.embedding = nn.Embedding(input_dim, embedding_dim)\n",
        "\n",
        "        # LSTM αντί για RNN\n",
        "        self.lstm = nn.LSTM(embedding_dim, hidden_dim, num_layers=n_layers, dropout=dropout, bidirectional=False)\n",
        "\n",
        "        self.fc = nn.Linear(hidden_dim, output_dim)\n",
        "        self.dropout = nn.Dropout(dropout)\n",
        "\n",
        "    def forward(self, text, text_lengths):\n",
        "        embedded = self.dropout(self.embedding(text))\n",
        "        packed_embedded = nn.utils.rnn.pack_padded_sequence(embedded, text_lengths.cpu(), batch_first=True, enforce_sorted=False)\n",
        "        packed_output, (hidden, cell) = self.lstm(packed_embedded)\n",
        "        output, output_lengths = nn.utils.rnn.pad_packed_sequence(packed_output, batch_first=True)\n",
        "        hidden = self.dropout(hidden[-1])\n",
        "        return self.fc(hidden)\n"
      ],
      "metadata": {
        "id": "wMKv1JxFwtEW"
      },
      "execution_count": null,
      "outputs": []
    },
    {
      "cell_type": "markdown",
      "source": [
        "#5. Συμπλήρωμα Αποτελεσμάτων"
      ],
      "metadata": {
        "id": "7pMtF8stwvqD"
      }
    },
    {
      "cell_type": "code",
      "source": [],
      "metadata": {
        "id": "8HWdxp_0w18e"
      },
      "execution_count": null,
      "outputs": []
    }
  ]
}